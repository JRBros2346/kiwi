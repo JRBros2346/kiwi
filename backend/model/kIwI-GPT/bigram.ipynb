{
 "cells": [
  {
   "cell_type": "code",
   "execution_count": 33,
   "metadata": {},
   "outputs": [
    {
     "name": "stdout",
     "output_type": "stream",
     "text": [
      "cuda\n"
     ]
    }
   ],
   "source": [
    "import torch\n",
    "import torch.nn as nn\n",
    "from torch.nn import functional as F\n",
    "device = 'cuda' if torch.cuda.is_available() else 'cpu'\n",
    "print(device)\n",
    "blocks = 16\n",
    "batches = 32\n",
    "max_iters = 50000\n",
    "learning_rate = 1e-4\n",
    "training_percent = 0.7"
   ]
  },
  {
   "cell_type": "code",
   "execution_count": 34,
   "metadata": {},
   "outputs": [
    {
     "name": "stdout",
     "output_type": "stream",
     "text": [
      "['\\n', ' ', '!', '&', '(', ')', '*', ',', '-', '.', '/', '0', '1', '2', '3', '4', '5', '6', '7', '8', '9', ':', ';', '?', 'A', 'B', 'C', 'D', 'E', 'F', 'G', 'H', 'I', 'J', 'K', 'L', 'M', 'N', 'O', 'P', 'Q', 'R', 'S', 'T', 'U', 'V', 'W', 'X', 'Y', 'Z', '[', ']', '_', '`', 'a', 'b', 'c', 'd', 'e', 'f', 'g', 'h', 'i', 'j', 'k', 'l', 'm', 'n', 'o', 'p', 'q', 'r', 's', 't', 'u', 'v', 'w', 'x', 'y', 'z', '}', '´', 'Á', 'à', 'á', 'æ', 'è', 'é', 'í', 'ò', 'ó', 'ù', 'ú', 'Ā', 'ā', 'Ă', 'ă', 'ē', 'ĕ', 'ħ', 'Ī', 'ī', 'Ĭ', 'ĭ', 'ō', 'Ŏ', 'ŏ', 'œ', 'Ū', 'ū', 'ŭ', 'ȳ', '̄', '̆', 'Α', 'Κ', 'Λ', 'Ν', 'Ο', 'Τ', '‘', '’', '“', '”', '⪥', '\\ufeff']\n"
     ]
    }
   ],
   "source": [
    "with open('grammar.txt', 'r', encoding='utf-8') as f:\n",
    "    text = f.read()\n",
    "chars = sorted(set(text))\n",
    "print(chars)\n",
    "vocab_len = len(chars)"
   ]
  },
  {
   "cell_type": "code",
   "execution_count": 35,
   "metadata": {},
   "outputs": [
    {
     "name": "stdout",
     "output_type": "stream",
     "text": [
      "tensor([125,   0,   0,   0,   0,  39,  71,  68,  57,  74,  56,  58,  57,   1,\n",
      "         55,  78,   1,  26,  61,  71,  62,  72,   1,  26,  74,  71,  67,  68,\n",
      "         76,   1,  54,  67,  57,   1,  73,  61,  58,   1,  38,  67,  65,  62,\n",
      "         67,  58,   1,  27,  62,  72,  73,  71,  62,  55,  74,  73,  58,  57,\n",
      "          0,  39,  71,  68,  68,  59,  71,  58,  54,  57,  62,  67,  60,   1,\n",
      "         43,  58,  54,  66,   1,  54,  73,   1,  61,  73,  73,  69,  21,  10,\n",
      "         10,  76,  76,  76,   9,  69,  60,  57,  69,   9,  67,  58,  73,   1,\n",
      "          4,  43])\n"
     ]
    }
   ],
   "source": [
    "str2int = { ch:i for i,ch in enumerate(chars) }\n",
    "int2str = { i:ch for i,ch in enumerate(chars) }\n",
    "encode = lambda s: [ str2int[c] for c in s ]\n",
    "decode = lambda l: ''.join([ int2str[i] for i in l ])\n",
    "\n",
    "data = torch.tensor(encode(text), dtype=torch.long)\n",
    "print(data[:100])"
   ]
  },
  {
   "cell_type": "code",
   "execution_count": 36,
   "metadata": {},
   "outputs": [
    {
     "name": "stdout",
     "output_type": "stream",
     "text": [
      "inputs:\n",
      "tensor([[ 62,  67,  72,  73,  71,  74,  56,  73,  68,  71,   1,  68,  59,   1,\n",
      "          78,  68],\n",
      "        [ 43,  61,  58,  71,  58,   1,  54,  71,  58,   1,  66,  54,  67,  78,\n",
      "           1,  73],\n",
      "        [  1,  72,  54,  62,  57,   7,   1,  73,  61,  54,  73,   1, 122,  73,\n",
      "          61,  58],\n",
      "        [ 71,  57,   1,   1,   1,   1,   1,   1,   1,  46,  62,  73,  56,  61,\n",
      "           9,   0],\n",
      "        [  9,   0,   0,  43,  61,  58,   1,  42,  74,  69,  58,  71,  65,  54,\n",
      "          73,  62],\n",
      "        [ 73,  68,   1,  68,  67,  58,   1,  68,  74,  73,   1,  68,  59,   1,\n",
      "          72,  58],\n",
      "        [ 54,  72,   1,  54,  67,   1,  62,  66,  69,  68,  71,  73,  54,  67,\n",
      "          73,   1],\n",
      "        [ 59,  54,  66,  68,  74,  72,   1,  68,  71,  54,  73,  68,  71,   7,\n",
      "           1,  76],\n",
      "        [ 73,  61,   7,   1,  75,  62,  60,  68,  74,  71,   7,   1,  54,  67,\n",
      "          57,   1],\n",
      "        [ 43,  61,  58,   1,  72,  58,  56,  68,  67,  57,   1,  62,  72,   1,\n",
      "          73,  61],\n",
      "        [ 38,  29,   1,  43,  31,  28,   1,  32,  42,  32,  42,  22,   0,   0,\n",
      "           1,   1],\n",
      "        [ 60,   9, 123,   1, 122,  24,  71,  58,   1,  78,  68,  74,   1,  54,\n",
      "           1,  56],\n",
      "        [  1,  54,  67,  57,   1,  73,  68,   1,  73,  61,  58,   1,  59,  68,\n",
      "          71,  66],\n",
      "        [ 61,  54,  73,   1,  54,   1,  57,  58,  54,  65,   1,  73,  61,  58,\n",
      "          71,  58],\n",
      "        [ 73,   1,  57,  58,  69,  58,  67,  57,  72,   1,  74,  69,  68,  67,\n",
      "           1,  62],\n",
      "        [  1,  66,  54,  64,  62,  67,  60,   1,  73,  61,  58,  62,  71,   1,\n",
      "          56,  68],\n",
      "        [  7,   1, 122,  24,  69,  69,  65,  58,   1,  72,  54,  74,  56,  58,\n",
      "           1,  62],\n",
      "        [ 73,  61,  58,  72,  58,   1,  73,  58,  71,  66,  62,  67,  54,  73,\n",
      "          62,  68],\n",
      "        [ 71,  72,  74,  62,  73,   1,  62,  72,   1,  56,  68,  66,  66,  58,\n",
      "          67,  56],\n",
      "        [ 72,  73,  58,  57,   1,  59,  68,  54,  66,   7,   0,  48,  58,   1,\n",
      "          68,  71],\n",
      "        [ 67,   1,  28,  67,  60,  65,  62,  72,  61,   1,  73,  61,  58,  78,\n",
      "           1,  61],\n",
      "        [ 66,  62,  73,   1,  68,  59,   1,  52,  58,  71,  52,   1,  54,  67,\n",
      "          57,   1],\n",
      "        [ 56,  54,  21,   1,  54,  72,   7,   0,   0,   1,   1,  39,  41,  28,\n",
      "          42,  28],\n",
      "        [  1,   1,   1,   1,   1,   1,   1,   1,   1,   1,  24,   1,  61,  58,\n",
      "          67,   8],\n",
      "        [ 52,  69,  65,  58,  54,  72,  54,  67,  73,  65,  78,  52,   9,   1,\n",
      "          29,  68],\n",
      "        [ 62,  67,  72,   7,   0,   1,   1,   4,  52,  45,  58,  65,  65,  52,\n",
      "           7,   1],\n",
      "        [ 74,  72,  54,  55,  65,  58,   7,   1,  76,  58,  71,  58,   1,  76,\n",
      "          58,   1],\n",
      "        [ 66,  58,  72,   7,   1,  76,  58,   1,  66,  54,  78,   1,  66,  58,\n",
      "          67,  73],\n",
      "        [ 62,  68,  67,   7,   1,  68,  71,   1,  58,  67,  73,  71,  58,  54,\n",
      "          73,  78],\n",
      "        [  1,   1,   1,   1,   1,   1,   1,   1,   1,   1,   1,   1,   1,   1,\n",
      "           1,   1],\n",
      "        [  1,  68,  59,   1,  73,  61,  58,  66,  21,   1,  54,  72,   7,   1,\n",
      "         122,  29],\n",
      "        [  1,  73,  61,  58,   1,  65,  68,  75,  58,  71,  22,   0,  54,  67,\n",
      "          57,   1]], device='cuda:0')\n",
      "target:\n",
      "tensor([[ 67,  72,  73,  71,  74,  56,  73,  68,  71,   1,  68,  59,   1,  78,\n",
      "          68,  74],\n",
      "        [ 61,  58,  71,  58,   1,  54,  71,  58,   1,  66,  54,  67,  78,   1,\n",
      "          73,  61],\n",
      "        [ 72,  54,  62,  57,   7,   1,  73,  61,  54,  73,   1, 122,  73,  61,\n",
      "          58,   1],\n",
      "        [ 57,   1,   1,   1,   1,   1,   1,   1,  46,  62,  73,  56,  61,   9,\n",
      "           0,   1],\n",
      "        [  0,   0,  43,  61,  58,   1,  42,  74,  69,  58,  71,  65,  54,  73,\n",
      "          62,  75],\n",
      "        [ 68,   1,  68,  67,  58,   1,  68,  74,  73,   1,  68,  59,   1,  72,\n",
      "          58,  75],\n",
      "        [ 72,   1,  54,  67,   1,  62,  66,  69,  68,  71,  73,  54,  67,  73,\n",
      "           1,  68],\n",
      "        [ 54,  66,  68,  74,  72,   1,  68,  71,  54,  73,  68,  71,   7,   1,\n",
      "          76,  61],\n",
      "        [ 61,   7,   1,  75,  62,  60,  68,  74,  71,   7,   1,  54,  67,  57,\n",
      "           1,  73],\n",
      "        [ 61,  58,   1,  72,  58,  56,  68,  67,  57,   1,  62,  72,   1,  73,\n",
      "          61,  58],\n",
      "        [ 29,   1,  43,  31,  28,   1,  32,  42,  32,  42,  22,   0,   0,   1,\n",
      "           1,  76],\n",
      "        [  9, 123,   1, 122,  24,  71,  58,   1,  78,  68,  74,   1,  54,   1,\n",
      "          56,  68],\n",
      "        [ 54,  67,  57,   1,  73,  68,   1,  73,  61,  58,   1,  59,  68,  71,\n",
      "          66,  58],\n",
      "        [ 54,  73,   1,  54,   1,  57,  58,  54,  65,   1,  73,  61,  58,  71,\n",
      "          58,   1],\n",
      "        [  1,  57,  58,  69,  58,  67,  57,  72,   1,  74,  69,  68,  67,   1,\n",
      "          62,  73],\n",
      "        [ 66,  54,  64,  62,  67,  60,   1,  73,  61,  58,  62,  71,   1,  56,\n",
      "          68,  66],\n",
      "        [  1, 122,  24,  69,  69,  65,  58,   1,  72,  54,  74,  56,  58,   1,\n",
      "          62,  72],\n",
      "        [ 61,  58,  72,  58,   1,  73,  58,  71,  66,  62,  67,  54,  73,  62,\n",
      "          68,  67],\n",
      "        [ 72,  74,  62,  73,   1,  62,  72,   1,  56,  68,  66,  66,  58,  67,\n",
      "          56,  58],\n",
      "        [ 73,  58,  57,   1,  59,  68,  54,  66,   7,   0,  48,  58,   1,  68,\n",
      "          71,   1],\n",
      "        [  1,  28,  67,  60,  65,  62,  72,  61,   1,  73,  61,  58,  78,   1,\n",
      "          61,  54],\n",
      "        [ 62,  73,   1,  68,  59,   1,  52,  58,  71,  52,   1,  54,  67,  57,\n",
      "           1,  52],\n",
      "        [ 54,  21,   1,  54,  72,   7,   0,   0,   1,   1,  39,  41,  28,  42,\n",
      "          28,  37],\n",
      "        [  1,   1,   1,   1,   1,   1,   1,   1,   1,  24,   1,  61,  58,  67,\n",
      "           8,  65],\n",
      "        [ 69,  65,  58,  54,  72,  54,  67,  73,  65,  78,  52,   9,   1,  29,\n",
      "          68,  71],\n",
      "        [ 67,  72,   7,   0,   1,   1,   4,  52,  45,  58,  65,  65,  52,   7,\n",
      "           1,  62],\n",
      "        [ 72,  54,  55,  65,  58,   7,   1,  76,  58,  71,  58,   1,  76,  58,\n",
      "           1,  73],\n",
      "        [ 58,  72,   7,   1,  76,  58,   1,  66,  54,  78,   1,  66,  58,  67,\n",
      "          73,  62],\n",
      "        [ 68,  67,   7,   1,  68,  71,   1,  58,  67,  73,  71,  58,  54,  73,\n",
      "          78,  21],\n",
      "        [  1,   1,   1,   1,   1,   1,   1,   1,   1,   1,   1,   1,   1,   1,\n",
      "           1,   1],\n",
      "        [ 68,  59,   1,  73,  61,  58,  66,  21,   1,  54,  72,   7,   1, 122,\n",
      "          29,  68],\n",
      "        [ 73,  61,  58,   1,  65,  68,  75,  58,  71,  22,   0,  54,  67,  57,\n",
      "           1,  65]], device='cuda:0')\n"
     ]
    }
   ],
   "source": [
    "n = int(0.8*len(data))\n",
    "train = data[:n]\n",
    "valid = data[n:]\n",
    "\n",
    "def get_batch(split):\n",
    "    data = train if split=='train' else valid\n",
    "    ix = torch.randint(len(data) - blocks, (batches,))\n",
    "    # print(ix)\n",
    "    x = torch.stack([data[i:i+blocks] for i in ix])\n",
    "    y = torch.stack([data[i+1:i+blocks+1] for i in ix])\n",
    "    x, y = x.to(device), y.to(device)\n",
    "    return x, y\n",
    "\n",
    "x, y = get_batch('train')\n",
    "print('inputs:')\n",
    "print(x)\n",
    "print('target:')\n",
    "print(y)"
   ]
  },
  {
   "cell_type": "code",
   "execution_count": 37,
   "metadata": {},
   "outputs": [
    {
     "name": "stdout",
     "output_type": "stream",
     "text": [
      "When input is tensor([125]) target is tensor(0)\n",
      "When input is tensor([125,   0]) target is tensor(0)\n",
      "When input is tensor([125,   0,   0]) target is tensor(0)\n",
      "When input is tensor([125,   0,   0,   0]) target is tensor(0)\n",
      "When input is tensor([125,   0,   0,   0,   0]) target is tensor(39)\n",
      "When input is tensor([125,   0,   0,   0,   0,  39]) target is tensor(71)\n",
      "When input is tensor([125,   0,   0,   0,   0,  39,  71]) target is tensor(68)\n",
      "When input is tensor([125,   0,   0,   0,   0,  39,  71,  68]) target is tensor(57)\n",
      "When input is tensor([125,   0,   0,   0,   0,  39,  71,  68,  57]) target is tensor(74)\n",
      "When input is tensor([125,   0,   0,   0,   0,  39,  71,  68,  57,  74]) target is tensor(56)\n",
      "When input is tensor([125,   0,   0,   0,   0,  39,  71,  68,  57,  74,  56]) target is tensor(58)\n",
      "When input is tensor([125,   0,   0,   0,   0,  39,  71,  68,  57,  74,  56,  58]) target is tensor(57)\n",
      "When input is tensor([125,   0,   0,   0,   0,  39,  71,  68,  57,  74,  56,  58,  57]) target is tensor(1)\n",
      "When input is tensor([125,   0,   0,   0,   0,  39,  71,  68,  57,  74,  56,  58,  57,   1]) target is tensor(55)\n",
      "When input is tensor([125,   0,   0,   0,   0,  39,  71,  68,  57,  74,  56,  58,  57,   1,\n",
      "         55]) target is tensor(78)\n",
      "When input is tensor([125,   0,   0,   0,   0,  39,  71,  68,  57,  74,  56,  58,  57,   1,\n",
      "         55,  78]) target is tensor(1)\n"
     ]
    }
   ],
   "source": [
    "x = train[:blocks]\n",
    "y = train[1:blocks+1]\n",
    "for t in range(blocks):\n",
    "    ctx = x[:t+1]\n",
    "    target = y[t]\n",
    "    print('When input is', ctx, 'target is', target)"
   ]
  },
  {
   "cell_type": "code",
   "execution_count": 38,
   "metadata": {},
   "outputs": [
    {
     "name": "stdout",
     "output_type": "stream",
     "text": [
      "\n",
      "O}&5nĕkVYăīòœoo’´C]ΛkĀM“-àō0Īĭ0nAnΑŎ4´1ō&5/œYq--´\n",
      "/cΚ‘èIΑĂ9’‘JvsT\n",
      "āĪ8ħTrKytMΑpQ6ŏnjIΑ/?ōS[Mœ]qpàĂqălb]ĕō]íō.òxP8ù ùeΚqx-)96RTriĪ.FOœùZBĀE/ŪRĭwăTí5ī⪥.6oăΟΛmh_!}̄*ăj*JΚ̄uōE)[ūΑ´cétĬ&“-̆cĬf1aΟ4s}-.‘ēOáqrpEl8ΟI[zQffY’æhcP\n",
      "HWUMgΤsctŪW6}wħL0èĭX“ħĀĕkjMĕō..cc⪥ΤōĔ}UàūDx3FPȳCúéÁx-}nUŎ’ēīesrFcéurQ!,ēòΑhzàéħg6N*lŪB&EŎ!﻿‘Ο!‘]cg!àG‘}Aeyē(áVΛ`ŭ_Τg5gf7ă\n",
      "ŭ9ŎGœ,Ní],“̆8èóRZÁ’QcŎ”}ĀxKóu.àū,s9̆-WΑĭhC\n",
      "﻿x!⪥_)̄N2´mŭtxE1æ,á7nYĕōNl“ΑL⪥Xù7gO,ħpM3”X_ā0ΛPΟæēt02P’fi:Oă`*éà:;mĭ‘aĬ´QAōFkkŭiò];mUī⪥aΟ̄-[ΟJdĀĕQ Īæòá0baètĭYq3﻿P\n"
     ]
    }
   ],
   "source": [
    "class Bigram(nn.Module):\n",
    "    def __init__(self, vocab_len):\n",
    "        super().__init__()\n",
    "        self.token_embedding = nn.Embedding(vocab_len, vocab_len)\n",
    "    def forward(self, index, targets=None):\n",
    "        logits = self.token_embedding(index)\n",
    "        if targets is None:\n",
    "            loss = None\n",
    "        else:\n",
    "            B, T, C = logits.shape\n",
    "            logits = logits.view(B*T, C)\n",
    "            targets = targets.view(B*T)\n",
    "            loss = F.cross_entropy(logits, targets)\n",
    "        return logits, loss\n",
    "    def generate(self, index, max_new_tokens):\n",
    "        for _ in range(max_new_tokens):\n",
    "            logits, loss = self.forward(index)\n",
    "            logits = logits[:, -1, :]\n",
    "            probs = F.softmax(logits, dim=-1)\n",
    "            index_next = torch.multinomial(probs, num_samples=1)\n",
    "            index = torch.cat((index, index_next), dim=1)\n",
    "        return index\n",
    "model = Bigram(vocab_len)\n",
    "m = model.to(device)\n",
    "\n",
    "ctx = torch.zeros((1, 1), dtype=torch.long, device=device)\n",
    "generated = decode(m.generate(ctx, max_new_tokens=500)[0].tolist())\n",
    "print(generated)"
   ]
  },
  {
   "cell_type": "code",
   "execution_count": null,
   "metadata": {},
   "outputs": [],
   "source": [
    "%%time\n",
    "optim = torch.optim.AdamW(model.parameters(), lr=learning_rate)\n",
    "for iter in range(max_iters):\n",
    "    xb, yb = get_batch('train')\n",
    "    logits, loss = model.forward(xb, yb)\n",
    "    optim.zero_grad(set_to_none=True)\n",
    "    loss.backward()\n",
    "    optim.step()\n",
    "print(loss.item())"
   ]
  },
  {
   "cell_type": "code",
   "execution_count": 30,
   "metadata": {},
   "outputs": [
    {
     "name": "stdout",
     "output_type": "stream",
     "text": [
      "\n",
      " hol Wisincidiectitus th  wake   f  a lo En thoond  ofof cherd oofe ds ais _I apifory Lora  Wingembyle and tha hedert st ce nirasoie iorlf_llis.” wonusong _tesshe\n",
      "\n",
      "tholerawigenveque  os  us; by ly, Mreapou ing BUBulde kn the wit;  stute tindjoaylofe  ito\n",
      "carer iver. vevee who as, veven d titenge II.”  s thet  a   w;\n",
      "RULild  in, bobe s\n",
      "ivere  bes nd prrupu me rouin\n",
      "  t ther-ng qurant e ick “dar IOfre toutht qur an\n",
      "imorshalppt\n",
      "ase ay a te.” ase anthispilicurd  e “Expliosere ton, asta se  ront alll\n"
     ]
    }
   ],
   "source": [
    "ctx = torch.zeros((1, 1), dtype=torch.long, device=device)\n",
    "generated = decode(m.generate(ctx, max_new_tokens=500)[0].tolist())\n",
    "print(generated)"
   ]
  },
  {
   "cell_type": "code",
   "execution_count": null,
   "metadata": {},
   "outputs": [],
   "source": []
  }
 ],
 "metadata": {
  "kernelspec": {
   "display_name": "Python 3 (ipykernel)",
   "language": "python",
   "name": "python3"
  },
  "language_info": {
   "codemirror_mode": {
    "name": "ipython",
    "version": 3
   },
   "file_extension": ".py",
   "mimetype": "text/x-python",
   "name": "python",
   "nbconvert_exporter": "python",
   "pygments_lexer": "ipython3",
   "version": "3.12.1"
  }
 },
 "nbformat": 4,
 "nbformat_minor": 4
}
