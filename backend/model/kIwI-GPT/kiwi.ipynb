{
 "cells": [
  {
   "cell_type": "code",
   "execution_count": 1,
   "id": "d8ab58f7-9c3d-4676-b29d-0dcf37218249",
   "metadata": {},
   "outputs": [
    {
     "name": "stdout",
     "output_type": "stream",
     "text": [
      "cuda\n"
     ]
    }
   ],
   "source": [
    "import torch\n",
    "import torch.nn as nn\n",
    "from torch.nn import functional as F\n",
    "import pickle\n",
    "device = torch.device('cuda' if torch.cuda.is_available() else 'cpu')\n",
    "print(device)\n",
    "block_size = 128\n",
    "batches = 16\n",
    "train_loop = 10000\n",
    "learning_rate = 5e-5\n",
    "train_split = 0.8\n",
    "debug_loop = 500\n",
    "embeds = 512\n",
    "heads = 8\n",
    "layers = 8\n",
    "dropout = 0.2"
   ]
  },
  {
   "cell_type": "code",
   "execution_count": 4,
   "id": "246ca4f0-e78a-4a15-944c-a5a2b2f6db5e",
   "metadata": {},
   "outputs": [
    {
     "name": "stdout",
     "output_type": "stream",
     "text": [
      "['\\n', ' ', '!', '&', '(', ')', '*', ',', '-', '.', '/', '0', '1', '2', '3', '4', '5', '6', '7', '8', '9', ':', ';', '?', 'A', 'B', 'C', 'D', 'E', 'F', 'G', 'H', 'I', 'J', 'K', 'L', 'M', 'N', 'O', 'P', 'Q', 'R', 'S', 'T', 'U', 'V', 'W', 'X', 'Y', 'Z', '[', ']', '_', '`', 'a', 'b', 'c', 'd', 'e', 'f', 'g', 'h', 'i', 'j', 'k', 'l', 'm', 'n', 'o', 'p', 'q', 'r', 's', 't', 'u', 'v', 'w', 'x', 'y', 'z', '}', '´', 'Á', 'à', 'á', 'æ', 'è', 'é', 'í', 'ò', 'ó', 'ù', 'ú', 'Ā', 'ā', 'Ă', 'ă', 'ē', 'ĕ', 'ħ', 'Ī', 'ī', 'Ĭ', 'ĭ', 'ō', 'Ŏ', 'ŏ', 'œ', 'Ū', 'ū', 'ŭ', 'ȳ', '̄', '̆', 'Α', 'Κ', 'Λ', 'Ν', 'Ο', 'Τ', '‘', '’', '“', '”', '⪥', '\\ufeff']\n",
      "126\n"
     ]
    }
   ],
   "source": [
    "chars = \"\"\n",
    "with open('grammar.txt', 'r', encoding='utf-8') as f:\n",
    "    text = f.read()\n",
    "    chars = sorted(set(text))\n",
    "print(chars)\n",
    "vocab_size = len(chars)\n",
    "print(vocab_size)"
   ]
  },
  {
   "cell_type": "code",
   "execution_count": 5,
   "id": "b2deb00b-e88b-445d-9c0b-3e07665cda93",
   "metadata": {},
   "outputs": [
    {
     "name": "stdout",
     "output_type": "stream",
     "text": [
      "tensor([125,   0,   0,   0,   0,  39,  71,  68,  57,  74,  56,  58,  57,   1,\n",
      "         55,  78,   1,  26,  61,  71,  62,  72,   1,  26,  74,  71,  67,  68,\n",
      "         76,   1,  54,  67,  57,   1,  73,  61,  58,   1,  38,  67,  65,  62,\n",
      "         67,  58,   1,  27,  62,  72,  73,  71,  62,  55,  74,  73,  58,  57,\n",
      "          0,  39,  71,  68,  68,  59,  71,  58,  54,  57,  62,  67,  60,   1,\n",
      "         43,  58,  54,  66,   1,  54,  73,   1,  61,  73,  73,  69,  21,  10,\n",
      "         10,  76,  76,  76,   9,  69,  60,  57,  69,   9,  67,  58,  73,   1,\n",
      "          4,  43], device='cuda:0')\n"
     ]
    }
   ],
   "source": [
    "str2int = { ch:i for i,ch in enumerate(chars) }\n",
    "int2str = { i:ch for i,ch in enumerate(chars) }\n",
    "encode = lambda s: [ str2int[c] for c in s ]\n",
    "decode = lambda l: ''.join([ int2str[i] for i in l ])\n",
    "data = torch.tensor(encode(text), dtype=torch.long).to(device)\n",
    "print(data[:100])"
   ]
  },
  {
   "cell_type": "code",
   "execution_count": 6,
   "id": "d35fe940-99a8-4e66-a4e0-a00d7fc72700",
   "metadata": {},
   "outputs": [
    {
     "name": "stdout",
     "output_type": "stream",
     "text": [
      "inputs:\n",
      "tensor([[ 68,  67,  72,  ...,  54,  71,  66],\n",
      "        [ 58,   1,  69,  ...,  58,  68,  69],\n",
      "        [ 68,   1,  54,  ...,   9, 123,   1],\n",
      "        ...,\n",
      "        [  1,  73,  68,  ...,  59,  62,  67],\n",
      "        [ 67,  68,  73,  ...,  61,  62,  56],\n",
      "        [ 58,  72,  73,  ...,   1,  57,  62]], device='cuda:0')\n",
      "target:\n",
      "tensor([[ 67,  72,   7,  ...,  71,  66,   0],\n",
      "        [  1,  69,  58,  ...,  68,  69,  65],\n",
      "        [  1,  54,  57,  ..., 123,   1,  31],\n",
      "        ...,\n",
      "        [ 73,  68,   1,  ...,  62,  67,  62],\n",
      "        [ 68,  73,  61,  ...,  62,  56,  61],\n",
      "        [ 72,  73,  62,  ...,  57,  62,  57]], device='cuda:0')\n"
     ]
    }
   ],
   "source": [
    "n = int(train_split*len(data))\n",
    "train = data[:n]\n",
    "valid = data[n:]\n",
    "\n",
    "def get_batch(split):\n",
    "    data = train if split=='train' else valid\n",
    "    ix = torch.randint(len(data) - block_size, (batches,))\n",
    "    # print(ix)\n",
    "    x = torch.stack([data[i:i+block_size] for i in ix])\n",
    "    y = torch.stack([data[i+1:i+block_size+1] for i in ix])\n",
    "    x, y = x.to(device), y.to(device)\n",
    "    return x, y\n",
    "\n",
    "x, y = get_batch('train')\n",
    "print('inputs:')\n",
    "print(x)\n",
    "print('target:')\n",
    "print(y)"
   ]
  },
  {
   "cell_type": "code",
   "execution_count": 7,
   "id": "26ed70f3-5e3e-4522-8567-7857d629c0b7",
   "metadata": {},
   "outputs": [],
   "source": [
    "class Head(nn.Module):\n",
    "    def __init__(self, head_size):\n",
    "        super().__init__()\n",
    "        self.key = nn.Linear(embeds, head_size, bias=False)\n",
    "        self.query = nn.Linear(embeds, head_size, bias=False)\n",
    "        self.value = nn.Linear(embeds, head_size, bias=False)\n",
    "        self.register_buffer('tril', torch.tril(torch.ones(block_size, block_size)))\n",
    "        self.dropout = nn.Dropout(dropout)\n",
    "    def forward(self, x):\n",
    "        B, T, C = x.shape\n",
    "        k = self.key(x)\n",
    "        q = self.query(x)\n",
    "        wei = q @ k.transpose(-2, -1) * k.shape[-1]**-.5\n",
    "        wei = wei.masked_fill(self.tril[:T, :T]==0, float('-inf'))\n",
    "        wei = F.softmax(wei, dim=-1)\n",
    "        wei = self.dropout(wei)\n",
    "        v = self.value(x)\n",
    "        out = wei @ v\n",
    "        return out\n",
    "\n",
    "class MultiHeadAttention(nn.Module):\n",
    "    def __init__(self, num_heads, head_size):\n",
    "        super().__init__()\n",
    "        self.heads = nn.ModuleList([Head(head_size) for _ in range(num_heads)])\n",
    "        self.proj = nn.Linear(head_size * num_heads, embeds)\n",
    "        self.dropout = nn.Dropout(dropout)\n",
    "    def forward(self, x):\n",
    "        out = torch.cat([h(x) for h in self.heads], dim=-1)\n",
    "        out = self.dropout(self.proj(out))\n",
    "        return out\n",
    "\n",
    "class FeedForward(nn.Module):\n",
    "    def __init__(self, embed):\n",
    "        super().__init__()\n",
    "        self.net = nn.Sequential(\n",
    "            nn.Linear(embeds, 4*embeds),\n",
    "            nn.ReLU(),\n",
    "            nn.Linear(4*embeds, embeds),\n",
    "            nn.Dropout(dropout),\n",
    "        )\n",
    "    def forward(self, x):\n",
    "        return self.net(x)\n",
    "\n",
    "class Block(nn.Module):\n",
    "    def __init__(self, embeds, heads):\n",
    "        super().__init__()\n",
    "        head_size = embeds // heads\n",
    "        self.sa = MultiHeadAttention(heads, head_size)\n",
    "        self.ffwd = FeedForward(embeds)\n",
    "        self.ln1 = nn.LayerNorm(embeds)\n",
    "        self.ln2 = nn.LayerNorm(embeds)\n",
    "    def forward(self, x):\n",
    "        y = self.sa(x)\n",
    "        x = self.ln1(x + y)\n",
    "        y = self.ffwd(x)\n",
    "        x = self.ln2(x + y)\n",
    "        return x\n",
    "\n",
    "class Kiwi(nn.Module):\n",
    "    def __init__(self, vocab_size):\n",
    "        super().__init__()\n",
    "        self.token_embedding = nn.Embedding(vocab_size, embeds)\n",
    "        self.position_embedding = nn.Embedding(block_size, embeds)\n",
    "        self.blocks = nn.Sequential(*[Block(embeds, heads=heads) for _ in range(layers)])\n",
    "        self.final_norm = nn.LayerNorm(embeds)\n",
    "        self.head = nn.Linear(embeds, vocab_size)\n",
    "        self.apply(self._init_weights)\n",
    "\n",
    "    def _init_weights(self, module):\n",
    "        if isinstance(module, nn.Linear):\n",
    "            nn.init.normal_(module.weight, mean=0.0, std=0.02)\n",
    "            if module.bias is not None:\n",
    "                nn.init.zeros_(module.bias)\n",
    "        elif isinstance(module, nn.Embedding):\n",
    "            nn.init.normal_(module.weight, mean=0.0, std=0.02)\n",
    "\n",
    "    def forward(self, index, targets=None):\n",
    "        B, T = index.shape\n",
    "\n",
    "        tok = self.token_embedding(index)\n",
    "        pos = self.position_embedding(torch.arange(T, device=device))\n",
    "        x = tok + pos\n",
    "        x = self.blocks(x)\n",
    "        x = self.final_norm(x)\n",
    "        logits = self.head(x)\n",
    "        if targets is None:\n",
    "            loss = None\n",
    "        else:\n",
    "            B, T, C = logits.shape\n",
    "            logits = logits.view(B*T, C)\n",
    "            targets = targets.view(B*T)\n",
    "            loss = F.cross_entropy(logits, targets)\n",
    "        return logits, loss\n",
    "        \n",
    "    def generate(self, index, max_new_tokens):\n",
    "        for iter in range(max_new_tokens):\n",
    "            index_crop = index[:, -block_size:]\n",
    "            logits, loss = self.forward(index_crop)\n",
    "            logits = logits[:, -1, :]\n",
    "            probs = F.softmax(logits, dim=-1)\n",
    "            index_next = torch.multinomial(probs, num_samples=1)\n",
    "            index = torch.cat((index, index_next), dim=1)\n",
    "            print(f\"\\r<{'*' * int(10 * iter/max_new_tokens)}{' ' * (10 - int(10*iter/max_new_tokens))}>\", end='', flush=False)\n",
    "        print(\"\\r<**********>\")\n",
    "        return index\n",
    "\n",
    "m = Kiwi(vocab_size)\n",
    "model = Kiwi(vocab_size).to(device)"
   ]
  },
  {
   "cell_type": "code",
   "execution_count": 8,
   "id": "345394da-ace6-4a22-ab85-ee8f29b7f61a",
   "metadata": {},
   "outputs": [],
   "source": [
    "@torch.no_grad()\n",
    "def estimate_loss(model):\n",
    "    out = {}\n",
    "    model.eval()\n",
    "    for split in ['train', 'val']:\n",
    "        losses = torch.zeros(debug_loop)\n",
    "        for k in range(debug_loop):\n",
    "            X, Y = get_batch(split)\n",
    "            logits, loss = model(X, Y)\n",
    "            losses[k] = loss.item()\n",
    "        out[split] = losses.mean()\n",
    "    model.train()\n",
    "    return out"
   ]
  },
  {
   "cell_type": "code",
   "execution_count": 7,
   "id": "fd9e8cc8-75ec-4fd8-913a-ccc19b2c9ee2",
   "metadata": {},
   "outputs": [
    {
     "name": "stdout",
     "output_type": "stream",
     "text": [
      "step: 0, train loss: 4.980935, valid loss: 4.971207\n",
      "step: 500, train loss: 2.453805, valid loss: 2.603982\n",
      "step: 1000, train loss: 2.142277, valid loss: 2.315857\n",
      "step: 1500, train loss: 1.924116, valid loss: 2.148293\n",
      "step: 2000, train loss: 1.787321, valid loss: 2.071828\n",
      "step: 2500, train loss: 1.685532, valid loss: 2.002305\n",
      "step: 3000, train loss: 1.594479, valid loss: 1.938929\n",
      "step: 3500, train loss: 1.523731, valid loss: 1.911186\n",
      "step: 4000, train loss: 1.446487, valid loss: 1.902528\n",
      "step: 4500, train loss: 1.384791, valid loss: 1.877297\n",
      "step: 5000, train loss: 1.333591, valid loss: 1.873751\n",
      "step: 5500, train loss: 1.271168, valid loss: 1.868645\n",
      "step: 6000, train loss: 1.220224, valid loss: 1.869128\n",
      "step: 6500, train loss: 1.164963, valid loss: 1.879513\n",
      "step: 7000, train loss: 1.115938, valid loss: 1.881689\n",
      "step: 7500, train loss: 1.062489, valid loss: 1.890433\n",
      "step: 8000, train loss: 1.009505, valid loss: 1.917896\n",
      "step: 8500, train loss: 0.953280, valid loss: 1.940237\n",
      "step: 9000, train loss: 0.907421, valid loss: 1.958873\n",
      "step: 9500, train loss: 0.845961, valid loss: 1.986211\n",
      "0.9298868179321289\n",
      "CPU times: total: 16min 38s\n",
      "Wall time: 35min 54s\n"
     ]
    }
   ],
   "source": [
    "%%time\n",
    "optim = torch.optim.AdamW(model.parameters(), lr=learning_rate)\n",
    "for iter in range(train_loop):\n",
    "    if iter % debug_loop == 0:\n",
    "        losses = estimate_loss(model)\n",
    "        print(f'step: {iter}, train loss: {losses['train']:.6f}, valid loss: {losses['val']:.6f}')\n",
    "\n",
    "    xb, yb = get_batch('train')\n",
    "    logits, loss = model.forward(xb, yb)\n",
    "    optim.zero_grad(set_to_none=True)\n",
    "    loss.backward()\n",
    "    optim.step()\n",
    "print(loss.item())\n",
    "with open('kiwi.pkl', 'wb') as f:\n",
    "    pickle.dump(model, f)"
   ]
  },
  {
   "cell_type": "code",
   "execution_count": 9,
   "id": "3a4ce780-e5a2-4570-9a94-4ccc71e45430",
   "metadata": {},
   "outputs": [
    {
     "name": "stderr",
     "output_type": "stream",
     "text": [
      "C:\\Users\\jrbro\\AppData\\Local\\Programs\\Python\\Python312\\Lib\\site-packages\\torch\\storage.py:414: FutureWarning: You are using `torch.load` with `weights_only=False` (the current default value), which uses the default pickle module implicitly. It is possible to construct malicious pickle data which will execute arbitrary code during unpickling (See https://github.com/pytorch/pytorch/blob/main/SECURITY.md#untrusted-models for more details). In a future release, the default value for `weights_only` will be flipped to `True`. This limits the functions that could be executed during unpickling. Arbitrary objects will no longer be allowed to be loaded via this mode unless they are explicitly allowlisted by the user via `torch.serialization.add_safe_globals`. We recommend you start setting `weights_only=True` for any use case where you don't have full control of the loaded file. Please open an issue on GitHub for any issues related to this experimental feature.\n",
      "  return torch.load(io.BytesIO(b))\n"
     ]
    },
    {
     "name": "stdout",
     "output_type": "stream",
     "text": [
      "<**********>\n",
      "\n",
      "\n",
      "“A Cing up to agent,” and stand some what two “King oōke,” that “call out conjOh! probaking and\n",
      "a hymng subbstantives, which are you wile to trick thim buscks.\n",
      "\n",
      "There we armire word in partive can phrases is some sight three, is done,\n",
      "owed boving it. The same word which is were to ouh, of will at no rend to\n",
      "the plate\n",
      "seconds of for metal pronouble to whether, and that every infeed with ristring\n",
      "out of by all meging ward, inswaints, and they would\n",
      "get nought to erms.\n",
      "\n",
      "Here walt in verbs Griviate are divided into may be gentlement and in concommon\n",
      "alway. Mass ee fiasi--is, we shaall be drown in the mow hand.\n",
      "\n",
      "Passive a shine pronounce whaped a pun and as sunds till Schootma’s by\n",
      "short,” &c.\n",
      "\n",
      "When engard in shock to disase sigure pronouns the degries of a horsol.\n",
      "\n",
      "Asformed intow, however, with shater the tan the plural of line.\n",
      "\n",
      "\n",
      "RULE II.\n",
      "\n",
      "Of those good “some,” “dimmide” which, áccor.\n",
      "\n",
      "And nothing is to the same peculiar emphasis.\n",
      "\n",
      "“Did _who_ waifter, make wishat,”\n",
      "“What are his a madica\n",
      "CPU times: total: 26.5 s\n",
      "Wall time: 39.6 s\n"
     ]
    }
   ],
   "source": [
    "%%time\n",
    "with open('kiwi.pkl', 'rb') as f:\n",
    "    model = pickle.load(f)\n",
    "ctx = torch.zeros((1, 1), dtype=torch.long, device=device)\n",
    "generated = decode(model.generate(ctx, max_new_tokens=1000)[0].tolist())\n",
    "print(generated)"
   ]
  },
  {
   "cell_type": "code",
   "execution_count": 10,
   "id": "f1fc2bf8-0830-4d5a-9c53-7bfd2fab9260",
   "metadata": {},
   "outputs": [],
   "source": [
    "import speech_recognition as sr\n",
    "import pyttsx3\n",
    "\n",
    "gender = 1\n",
    "\n",
    "listener = sr.Recognizer()\n",
    "engine = pyttsx3.init('sapi5')\n",
    "voices = engine.getProperty(\"voices\")\n",
    "engine.setProperty('voice',voices[gender].id)\n",
    "\n",
    "def talk(audio):\n",
    "    engine.say(audio)\n",
    "    engine.runAndWait()\n",
    "\n",
    "talk(generated)"
   ]
  },
  {
   "cell_type": "code",
   "execution_count": null,
   "id": "cb483c83-1e49-4486-8ee2-91a177b77118",
   "metadata": {},
   "outputs": [],
   "source": []
  }
 ],
 "metadata": {
  "kernelspec": {
   "display_name": "Python 3 (ipykernel)",
   "language": "python",
   "name": "python3"
  },
  "language_info": {
   "codemirror_mode": {
    "name": "ipython",
    "version": 3
   },
   "file_extension": ".py",
   "mimetype": "text/x-python",
   "name": "python",
   "nbconvert_exporter": "python",
   "pygments_lexer": "ipython3",
   "version": "3.12.1"
  }
 },
 "nbformat": 4,
 "nbformat_minor": 5
}
